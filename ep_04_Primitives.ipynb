{
 "cells": [
  {
   "cell_type": "markdown",
   "metadata": {},
   "source": [
    "# Primitives\n",
    "\n",
    "Primitive: The smallest processsing unit for a given abstraction level.   \n",
    "Estimator Primitive: Computes expectation values of observables with the repective states prepared by quantum circuits.  \n",
    "Samplter Primitive: Returns shot by shot bit strings sampled from the probability distribution of the quantum state prepared on device."
   ]
  },
  {
   "cell_type": "markdown",
   "metadata": {},
   "source": [
    "# Tranverse field Ising model to demo primitives"
   ]
  },
  {
   "cell_type": "code",
   "execution_count": null,
   "metadata": {},
   "outputs": [],
   "source": [
    "from qiskit import QuantumCircuit\n",
    "from qiskit.circuit.library import YGate, UnitaryGate\n",
    "\n",
    "SYGate = UnitaryGate(YGate().power(1/2), label = r'$\\sqrt{Y}$')\n",
    "SYdgGate = UnitaryGate(SYGate().inverse(), label = r'$\\sqrt{Y}^\\dag$')\n",
    "\n",
    "def generate_1d_tfim_circuit(num_qubits, num_trotter_steps, rx_angle):\n",
    "    qc = QuantumCircuit(num_qubits)\n",
    "\n",
    "    for trotter_step in range(num_trotter_steps):\n",
    "        add_1d_tfim_trotter_layer(qc, rx_angle)\n",
    "\n",
    "    return qc\n",
    "\n",
    "def add_1d_tfim_trotter_layer(qc, rx_angle):\n",
    "    # for adding RZZ layes in the even layers\n",
    "    for i in range(0, qc.num_qubits-1,2):\n",
    "        qc.sdg([i, i+1])\n",
    "        qc.append(SYGate, [i+1])\n",
    "        qc.cx(i, i+1)\n",
    "        qc.append(SYdgGate, [i+1])\n",
    "        \n",
    "    for i in range(1, qc.num_qubits-1,2):\n",
    "        qc.sdg([i, i+1])\n",
    "        qc.append(SYGate, [i+1])\n",
    "        qc.cx(i, i+1)\n",
    "        qc.append(SYdgGate, [i+1])       \n",
    "        "
   ]
  }
 ],
 "metadata": {
  "kernelspec": {
   "display_name": "coding-with-qiskit",
   "language": "python",
   "name": "python3"
  },
  "language_info": {
   "name": "python",
   "version": "3.12.3"
  }
 },
 "nbformat": 4,
 "nbformat_minor": 2
}
