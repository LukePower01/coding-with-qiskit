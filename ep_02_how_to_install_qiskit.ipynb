{
 "cells": [
  {
   "cell_type": "markdown",
   "metadata": {},
   "source": [
    "# How to Install Qiskit\n",
    "\n",
    "## Conda Environments\n",
    "After installing Conda or MiniConda, create a conda environment with conda create --name [envname]\n",
    "Activate the enviorment with conda activate [envname]\n",
    "\n",
    "Make sure to use this environement as your python kernel in your IDE.\n",
    "\n",
    "Iside the Environment we can use 'pip' to install the necessary python packages.\n",
    "\n",
    "so far we would use: \n",
    "```zsh\n",
    "pip install qiskit\n",
    "pip install qiskit_ibm_runtime\n",
    "pip install matplotlib\n",
    "```"
   ]
  },
  {
   "cell_type": "code",
   "execution_count": 1,
   "metadata": {},
   "outputs": [],
   "source": [
    "import qiskit"
   ]
  },
  {
   "cell_type": "code",
   "execution_count": 2,
   "metadata": {},
   "outputs": [
    {
     "data": {
      "text/plain": [
       "'1.0.2'"
      ]
     },
     "execution_count": 2,
     "metadata": {},
     "output_type": "execute_result"
    }
   ],
   "source": [
    "qiskit.__version__"
   ]
  },
  {
   "cell_type": "markdown",
   "metadata": {},
   "source": [
    "To initalise access to quantum hardware we use QiskitRuntimeServie\n",
    "\n",
    "```python\n",
    "from qiskit_ibm_runtime import QiskitRuntimeService\n",
    "service = QiskitRuntimeService(channel = \"ibm_quantum\", \n",
    "                               token = \"YOUR_IBM_API_TOKEN\")\n",
    "```\n",
    "\n",
    "After this you can save your details to the environment to avoid having to keep using you API key:\n",
    "\n",
    "```python\n",
    "QiskitRuntimService.save_account(channel = \"ibm_quantum\", \n",
    "                               token = \"YOUR_IBM_API_TOKEN\")\n",
    "```"
   ]
  },
  {
   "cell_type": "code",
   "execution_count": 13,
   "metadata": {},
   "outputs": [],
   "source": [
    "from qiskit_ibm_runtime import QiskitRuntimeService\n",
    "service = QiskitRuntimeService(channel=\"ibm_quantum\")"
   ]
  },
  {
   "cell_type": "markdown",
   "metadata": {},
   "source": [
    "After creating the service we can then select a backend."
   ]
  },
  {
   "cell_type": "code",
   "execution_count": 14,
   "metadata": {},
   "outputs": [],
   "source": [
    "backend = service.backend(name = \"ibm_brisbane\")"
   ]
  },
  {
   "cell_type": "code",
   "execution_count": 15,
   "metadata": {},
   "outputs": [
    {
     "data": {
      "text/plain": [
       "127"
      ]
     },
     "execution_count": 15,
     "metadata": {},
     "output_type": "execute_result"
    }
   ],
   "source": [
    "backend.num_qubits"
   ]
  }
 ],
 "metadata": {
  "kernelspec": {
   "display_name": "coding-with-qiskit",
   "language": "python",
   "name": "python3"
  },
  "language_info": {
   "codemirror_mode": {
    "name": "ipython",
    "version": 3
   },
   "file_extension": ".py",
   "mimetype": "text/x-python",
   "name": "python",
   "nbconvert_exporter": "python",
   "pygments_lexer": "ipython3",
   "version": "3.12.3"
  }
 },
 "nbformat": 4,
 "nbformat_minor": 2
}
